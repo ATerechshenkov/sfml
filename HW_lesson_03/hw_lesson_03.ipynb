{
 "cells": [
  {
   "cell_type": "markdown",
   "metadata": {},
   "source": [
    "1. Обработка данных"
   ]
  },
  {
   "cell_type": "code",
   "execution_count": 1,
   "metadata": {},
   "outputs": [],
   "source": [
    "import pandas as pd\n",
    "from sklearn.model_selection import train_test_split\n",
    "from sklearn.metrics import precision_score, recall_score, accuracy_score, classification_report\n",
    "%matplotlib inline\n",
    "from matplotlib import pyplot as plt\n",
    "from sklearn.metrics import roc_auc_score, roc_curve"
   ]
  },
  {
   "cell_type": "code",
   "execution_count": 2,
   "metadata": {},
   "outputs": [],
   "source": [
    "def print_about(data_set):\n",
    "    print('SHAPE\\n', data_set.shape)\n",
    "    print('\\nINFO\\n', data_set.info())\n",
    "    print('\\nHEAD\\n', data_set.head(1).T)\n",
    "    print('\\nDESC\\n', data_set.describe().T)"
   ]
  },
  {
   "cell_type": "code",
   "execution_count": 3,
   "metadata": {},
   "outputs": [],
   "source": [
    "df_train = pd.read_csv('train.csv')\n",
    "#print_about(df_train)"
   ]
  },
  {
   "cell_type": "code",
   "execution_count": 4,
   "metadata": {},
   "outputs": [],
   "source": [
    "def print_objects(df):\n",
    "    for i in df.columns:\n",
    "        if str(df[i].dtype) == 'object':\n",
    "            print('='*10)\n",
    "            print(i)\n",
    "            print(df[i].value_counts()) \n",
    "            print('\\n')"
   ]
  },
  {
   "cell_type": "code",
   "execution_count": 5,
   "metadata": {},
   "outputs": [],
   "source": [
    "#print_objects(df_train)"
   ]
  },
  {
   "cell_type": "code",
   "execution_count": 6,
   "metadata": {},
   "outputs": [],
   "source": [
    "def preproc_data(df_input):\n",
    "    df_output = df_input.copy()\n",
    "        \n",
    "    #Удаляю default т.к. неинформативные данные\n",
    "    df_output = df_output.drop(['default'], axis=1)\n",
    "\n",
    "    #Удаляем строки с пустыми данными\n",
    "    #df_output = df_output[~(df_output['job'] == 'unknown')]\n",
    "    #df_output = df_output[~(df_output['marital'] == 'unknown')]\n",
    "    #df_output = df_output[~(df_output['education'] == 'unknown')]\n",
    "    #df_output = df_output[~(df_output['housing'] == 'unknown')]\n",
    "    #df_output = df_output[~(df_output['loan'] == 'unknown')]\n",
    "    \n",
    "    #Замена категориальных признаков\n",
    "    #df_output.loc[:,  ['housing', 'loan']] = df_output.loc[:,  ['housing', 'loan']].replace({'no': 0, 'yes': 1})\n",
    "    df_output = pd.get_dummies(df_output, columns=['housing', 'loan'])\n",
    "\n",
    "    #Кодируем категориальные признаки\n",
    "    df_output = pd.get_dummies(df_output, columns=['job', 'marital', 'education', 'contact', 'month', 'day_of_week', 'poutcome'])\n",
    "    \n",
    "    return df_output"
   ]
  },
  {
   "cell_type": "code",
   "execution_count": 7,
   "metadata": {},
   "outputs": [
    {
     "name": "stdout",
     "output_type": "stream",
     "text": [
      "X.shape (24712, 60)\n",
      "Y.shape (24712,)\n"
     ]
    }
   ],
   "source": [
    "df_train_preproc = df_train.pipe(preproc_data)\n",
    "\n",
    "y = df_train_preproc['target']\n",
    "X = df_train_preproc.drop(['_id', 'target'], axis=1)\n",
    "\n",
    "print('X.shape', X.shape)\n",
    "print('Y.shape', y.shape)"
   ]
  },
  {
   "cell_type": "code",
   "execution_count": 8,
   "metadata": {},
   "outputs": [],
   "source": [
    "X_train, X_test, y_train, y_test = train_test_split(X, y, test_size=0.3, random_state=123)"
   ]
  },
  {
   "cell_type": "markdown",
   "metadata": {},
   "source": [
    "2. КНН"
   ]
  },
  {
   "cell_type": "code",
   "execution_count": 9,
   "metadata": {},
   "outputs": [],
   "source": [
    "from sklearn.pipeline import Pipeline\n",
    "from sklearn.preprocessing import StandardScaler\n",
    "from sklearn.neighbors import KNeighborsClassifier"
   ]
  },
  {
   "cell_type": "code",
   "execution_count": 10,
   "metadata": {},
   "outputs": [],
   "source": [
    "model_KNN = Pipeline([\n",
    "    ('scaler', StandardScaler()),\n",
    "    ('knn', KNeighborsClassifier(n_neighbors=3))\n",
    "])\n",
    "\n",
    "model_KNN.fit(X_train, y_train)\n",
    "\n",
    "predict_KNN = model_KNN.predict(X_test)\n",
    "predict_proba_KNN = model_KNN.predict_proba(X_test)"
   ]
  },
  {
   "cell_type": "markdown",
   "metadata": {},
   "source": [
    "3.1 Дерево принятия решения (Кросс валидация по однром гипер параметру)"
   ]
  },
  {
   "cell_type": "code",
   "execution_count": 11,
   "metadata": {},
   "outputs": [],
   "source": [
    "from sklearn.tree import DecisionTreeClassifier\n",
    "from sklearn.model_selection import StratifiedKFold, validation_curve"
   ]
  },
  {
   "cell_type": "code",
   "execution_count": 12,
   "metadata": {},
   "outputs": [
    {
     "data": {
      "text/plain": [
       "Text(0,0.5,'ROC AUC')"
      ]
     },
     "execution_count": 12,
     "metadata": {},
     "output_type": "execute_result"
    },
    {
     "data": {
      "image/png": "[encoded data removed]",
      "text/plain": [
       "<Figure size 432x288 with 1 Axes>"
      ]
     },
     "metadata": {},
     "output_type": "display_data"
    }
   ],
   "source": [
    "model_DTC = DecisionTreeClassifier(random_state=123)\n",
    "\n",
    "model_DTC.fit(X_train, y_train)\n",
    "\n",
    "cv = StratifiedKFold(n_splits=5, shuffle=True, random_state=132)\n",
    "\n",
    "train_scores, valid_scores = validation_curve(model_DTC, X, y, 'max_depth', range(1, 10), cv=cv, scoring='roc_auc')\n",
    "\n",
    "train_score_mean = train_scores.mean(axis=1)\n",
    "train_score_std = train_scores.std(axis=1)\n",
    "valid_scores_mean = valid_scores.mean(axis=1)\n",
    "valid_scores_std = valid_scores.std(axis=1)\n",
    "\n",
    "plt.fill_between(range(1,10), train_score_mean-train_score_std, train_score_mean+train_score_std, color='b',\n",
    "                 interpolate=True, alpha=0.5,)\n",
    "plt.fill_between(range(1,10), valid_scores_mean-valid_scores_std, valid_scores_mean+valid_scores_std, color='r', \n",
    "                 interpolate=True, alpha=0.5)\n",
    "\n",
    "plt.plot(range(1,10), train_score_mean, c='b', lw=2)\n",
    "plt.plot(range(1,10), valid_scores_mean, c='r', lw=2)\n",
    "\n",
    "plt.xlabel('max depth')\n",
    "plt.ylabel('ROC AUC')"
   ]
  },
  {
   "cell_type": "code",
   "execution_count": 13,
   "metadata": {},
   "outputs": [],
   "source": [
    "max_depth = 5\n",
    "model_DTC = DecisionTreeClassifier(criterion='entropy', max_depth=max_depth, random_state=123)\n",
    "model_DTC.fit(X_train, y_train)\n",
    "\n",
    "predict_DTC = model_DTC.predict(X_test)\n",
    "predict_proba_DTC = model_DTC.predict_proba(X_test)"
   ]
  },
  {
   "cell_type": "markdown",
   "metadata": {},
   "source": [
    "3.2 Дерево принятия решения Random Search (Подбор всех гирперпараметров)"
   ]
  },
  {
   "cell_type": "code",
   "execution_count": 14,
   "metadata": {},
   "outputs": [],
   "source": [
    "from scipy.stats import randint as randint\n",
    "from scipy.stats import uniform\n",
    "from sklearn.model_selection import GridSearchCV\n",
    "from sklearn.model_selection import RandomizedSearchCV\n",
    "from sklearn.model_selection import StratifiedKFold"
   ]
  },
  {
   "cell_type": "code",
   "execution_count": 15,
   "metadata": {},
   "outputs": [
    {
     "name": "stdout",
     "output_type": "stream",
     "text": [
      "best_params {'class_weight': 'balanced', 'criterion': 'entropy', 'max_depth': 6, 'min_samples_leaf': 7}\n",
      "best_score 0.937119828479246\n"
     ]
    }
   ],
   "source": [
    "param_grid = {\n",
    "    'criterion': ['gini', 'entropy'],\n",
    "    'max_depth': randint(2, 8),\n",
    "    'min_samples_leaf': randint(5, 10),\n",
    "    'class_weight': [None, 'balanced']}\n",
    "\n",
    "cv = StratifiedKFold(n_splits=5, random_state=123, shuffle=True)\n",
    "\n",
    "model = DecisionTreeClassifier(random_state=123)\n",
    "random_search = RandomizedSearchCV(model, param_distributions=param_grid, n_iter=200, n_jobs=-1,\n",
    "                                   cv=cv, scoring='roc_auc', random_state=123)\n",
    "\n",
    "random_search.fit(X, y)\n",
    "\n",
    "print('best_params', random_search.best_params_)\n",
    "print('best_score', random_search.best_score_)\n",
    "\n",
    "model_DTC_Rand = random_search.best_estimator_\n",
    "\n",
    "predict_DTC_Rand = model_DTC_Rand.predict(X_test)\n",
    "predict_proba_DTC_Rand = model_DTC_Rand.predict_proba(X_test)"
   ]
  },
  {
   "cell_type": "markdown",
   "metadata": {},
   "source": [
    "4. Логистическая регрессия"
   ]
  },
  {
   "cell_type": "code",
   "execution_count": 16,
   "metadata": {},
   "outputs": [],
   "source": [
    "from sklearn.linear_model import LogisticRegression"
   ]
  },
  {
   "cell_type": "code",
   "execution_count": 17,
   "metadata": {},
   "outputs": [],
   "source": [
    "model_LR = LogisticRegression()\n",
    "model_LR.fit(X_train, y_train)\n",
    "predict_LR = model_LR.predict(X_test)\n",
    "predict_proba_LR = model_LR.predict_proba(X_test)"
   ]
  },
  {
   "cell_type": "markdown",
   "metadata": {},
   "source": [
    "5. Сравнение результатов алгоритмов"
   ]
  },
  {
   "cell_type": "code",
   "execution_count": 18,
   "metadata": {},
   "outputs": [
    {
     "name": "stdout",
     "output_type": "stream",
     "text": [
      "KNeighborsClassifier\n",
      "\n",
      "             precision    recall  f1-score   support\n",
      "\n",
      "          0       0.91      0.97      0.94      6574\n",
      "          1       0.54      0.29      0.38       840\n",
      "\n",
      "avg / total       0.87      0.89      0.88      7414\n",
      "\n",
      "DecisionTreeClassifier\n",
      "\n",
      "             precision    recall  f1-score   support\n",
      "\n",
      "          0       0.93      0.97      0.95      6574\n",
      "          1       0.69      0.45      0.54       840\n",
      "\n",
      "avg / total       0.90      0.91      0.91      7414\n",
      "\n",
      "DecisionTreeClassifier (Random Search)\n",
      "\n",
      "             precision    recall  f1-score   support\n",
      "\n",
      "          0       0.99      0.83      0.90      6574\n",
      "          1       0.42      0.93      0.58       840\n",
      "\n",
      "avg / total       0.92      0.84      0.87      7414\n",
      "\n",
      "LogisticRegression\n",
      "\n",
      "             precision    recall  f1-score   support\n",
      "\n",
      "          0       0.93      0.98      0.95      6574\n",
      "          1       0.70      0.38      0.49       840\n",
      "\n",
      "avg / total       0.90      0.91      0.90      7414\n",
      "\n"
     ]
    }
   ],
   "source": [
    "print('KNeighborsClassifier\\n')\n",
    "print(classification_report(y_test, predict_KNN))\n",
    "\n",
    "print('DecisionTreeClassifier\\n')\n",
    "print(classification_report(y_test, predict_DTC))\n",
    "\n",
    "print('DecisionTreeClassifier (Random Search)\\n')\n",
    "print(classification_report(y_test, predict_DTC_Rand))\n",
    "\n",
    "print('LogisticRegression\\n')\n",
    "print(classification_report(y_test, predict_LR))"
   ]
  },
  {
   "cell_type": "code",
   "execution_count": 19,
   "metadata": {},
   "outputs": [
    {
     "name": "stdout",
     "output_type": "stream",
     "text": [
      "ROC_AUC\n",
      "KNeighborsClassifier\t\t\t 0.7537220942529735\n",
      "DecisionTreeClassifier\t\t\t 0.9194480058527822\n",
      "DecisionTreeClassifier (Random Search)\t 0.9478228627928201\n",
      "LogisticRegression\t\t\t 0.9296146797629913\n"
     ]
    },
    {
     "data": {
      "image/png": "[encoded data removed]",
      "text/plain": [
       "<Figure size 576x576 with 1 Axes>"
      ]
     },
     "metadata": {},
     "output_type": "display_data"
    }
   ],
   "source": [
    "#ROC_AUC\n",
    "plt.figure(figsize=(8, 8))\n",
    "plt.plot([0, 1], [0, 1], 'grey')\n",
    "plt.ylabel('tpr')\n",
    "plt.xlabel('fpr')\n",
    "plt.grid(True)\n",
    "plt.title('ROC curve')\n",
    "plt.xlim((-0.01, 1.01))\n",
    "plt.ylim((-0.01, 1.01))\n",
    "\n",
    "fpr_KNN, tpr_KNN, thresholds = roc_curve(y_test, predict_proba_KNN[:,1])\n",
    "lineDTC = plt.plot(fpr_KNN, tpr_KNN, 'y-' ,label='KNeighborsClassifier')\n",
    "\n",
    "fpr_DTC, tpr_DTC, thresholds = roc_curve(y_test, predict_proba_DTC[:,1])\n",
    "lineDTC = plt.plot(fpr_DTC, tpr_DTC, 'g-' ,label='DecisionTreeClassifier')\n",
    "\n",
    "fpr_DTC_R, tpr_DTC_R, thresholds = roc_curve(y_test, predict_proba_DTC_Rand[:,1])\n",
    "lineDTC = plt.plot(fpr_DTC_R, tpr_DTC_R, 'b-' ,label='DecisionTreeClassifier (Random Search)')\n",
    "\n",
    "fprLR, tprLR, thresholds = roc_curve(y_test, predict_proba_LR[:,1])\n",
    "plt.plot(fprLR, tprLR, 'r-', label='Logistic Regression')\n",
    "\n",
    "plt.legend()\n",
    "\n",
    "roc_auc_KNN = roc_auc_score(y_test, predict_proba_KNN[:,1])\n",
    "roc_auc_DTC= roc_auc_score(y_test, predict_proba_DTC[:,1])\n",
    "roc_auc_DTC_Rand= roc_auc_score(y_test, predict_proba_DTC_Rand[:,1])\n",
    "roc_auc_LR = roc_auc_score(y_test, predict_proba_LR[:,1])\n",
    "\n",
    "print('ROC_AUC')\n",
    "print('KNeighborsClassifier\\t\\t\\t', roc_auc_KNN)\n",
    "print('DecisionTreeClassifier\\t\\t\\t', roc_auc_DTC)\n",
    "print('DecisionTreeClassifier (Random Search)\\t', roc_auc_DTC_Rand)\n",
    "print('LogisticRegression\\t\\t\\t', roc_auc_LR)"
   ]
  },
  {
   "cell_type": "code",
   "execution_count": 20,
   "metadata": {},
   "outputs": [
    {
     "name": "stderr",
     "output_type": "stream",
     "text": [
      "/anaconda3/lib/python3.6/site-packages/sklearn/cross_validation.py:41: DeprecationWarning: This module was deprecated in version 0.18 in favor of the model_selection module into which all the refactored classes and functions are moved. Also note that the interface of the new CV iterators are different from that of this module. This module will be removed in 0.20.\n",
      "  \"This module will be removed in 0.20.\", DeprecationWarning)\n"
     ]
    },
    {
     "name": "stdout",
     "output_type": "stream",
     "text": [
      "AVG_ROC_AUC\n",
      "KNeighborsClassifier\t\t\t 0.7553029490771225\n",
      "DecisionTreeClassifier\t\t\t 0.930427484091563\n",
      "DecisionTreeClassifier (Random Search)\t 0.937398038735418\n",
      "Logistic Regression\t\t\t 0.929694771715434\n"
     ]
    }
   ],
   "source": [
    "from sklearn.cross_validation import cross_val_score\n",
    "\n",
    "cvs_KNN = cross_val_score(model_KNN, X, y, scoring='roc_auc', cv=10)\n",
    "cvs_DTC = cross_val_score(model_DTC, X, y, scoring='roc_auc', cv=10)\n",
    "cvs_DTC_R = cross_val_score(model_DTC_Rand, X, y, scoring='roc_auc', cv=10)\n",
    "cvs_LR = cross_val_score(model_LR, X, y, scoring='roc_auc', cv=10)\n",
    "\n",
    "print('AVG_ROC_AUC')\n",
    "print('KNeighborsClassifier\\t\\t\\t', sum(cvs_KNN)/len(cvs_KNN))\n",
    "print('DecisionTreeClassifier\\t\\t\\t', sum(cvs_DTC)/len(cvs_DTC))\n",
    "print('DecisionTreeClassifier (Random Search)\\t', sum(cvs_DTC_R)/len(cvs_DTC_R))\n",
    "print('Logistic Regression\\t\\t\\t', sum(cvs_LR)/len(cvs_LR))"
   ]
  },
  {
   "cell_type": "markdown",
   "metadata": {},
   "source": [
    "6. Получение результата по лучшему алгоритму"
   ]
  },
  {
   "cell_type": "code",
   "execution_count": 21,
   "metadata": {},
   "outputs": [],
   "source": [
    "import numpy as np"
   ]
  },
  {
   "cell_type": "code",
   "execution_count": 22,
   "metadata": {},
   "outputs": [],
   "source": [
    "df_test = pd.read_csv('test.csv')\n",
    "\n",
    "df_test_preproc = df_test.pipe(preproc_data)\n",
    "X_test = df_test_preproc.drop(['_id'], axis=1)\n",
    "\n",
    "result_predict = model_DTC_Rand.predict(X_test)"
   ]
  },
  {
   "cell_type": "code",
   "execution_count": 23,
   "metadata": {},
   "outputs": [
    {
     "data": {
      "text/plain": [
       "{0: 12200, 1: 4276}"
      ]
     },
     "execution_count": 23,
     "metadata": {},
     "output_type": "execute_result"
    }
   ],
   "source": [
    "a = np.array(result_predict)\n",
    "unique, counts = np.unique(a, return_counts=True)\n",
    "dict(zip(unique, counts))"
   ]
  },
  {
   "cell_type": "code",
   "execution_count": 24,
   "metadata": {},
   "outputs": [
    {
     "data": {
      "text/plain": [
       "0    12200\n",
       "1     4276\n",
       "Name: target, dtype: int64"
      ]
     },
     "execution_count": 24,
     "metadata": {},
     "output_type": "execute_result"
    }
   ],
   "source": [
    "#Формируем результат\n",
    "df_test_preproc['target'] = result_predict\n",
    "\n",
    "df_result = pd.merge(df_test, df_test_preproc, on='_id', how='outer')\n",
    "#df_result.loc[df_result['target'].isnull(), 'target'] = 0 # Добавляем удаленные строки 0\n",
    "df_result = df_result[['_id', 'target']].copy()\n",
    "\n",
    "df_result['target'].value_counts()"
   ]
  },
  {
   "cell_type": "code",
   "execution_count": 25,
   "metadata": {},
   "outputs": [
    {
     "name": "stdout",
     "output_type": "stream",
     "text": [
      "<class 'pandas.core.frame.DataFrame'>\n",
      "Int64Index: 16476 entries, 0 to 16475\n",
      "Data columns (total 2 columns):\n",
      "_id       16476 non-null object\n",
      "target    16476 non-null int64\n",
      "dtypes: int64(1), object(1)\n",
      "memory usage: 386.2+ KB\n"
     ]
    }
   ],
   "source": [
    "df_result.info()"
   ]
  },
  {
   "cell_type": "code",
   "execution_count": 26,
   "metadata": {},
   "outputs": [],
   "source": [
    "df_result.to_csv('result.csv', sep=',', encoding='utf-8', index=False)"
   ]
  },
  {
   "cell_type": "code",
   "execution_count": null,
   "metadata": {},
   "outputs": [],
   "source": []
  }
 ],
 "metadata": {
  "kernelspec": {
   "display_name": "Python 3",
   "language": "python",
   "name": "python3"
  },
  "language_info": {
   "codemirror_mode": {
    "name": "ipython",
    "version": 3
   },
   "file_extension": ".py",
   "mimetype": "text/x-python",
   "name": "python",
   "nbconvert_exporter": "python",
   "pygments_lexer": "ipython3",
   "version": "3.6.5"
  }
 },
 "nbformat": 4,
 "nbformat_minor": 2
}
