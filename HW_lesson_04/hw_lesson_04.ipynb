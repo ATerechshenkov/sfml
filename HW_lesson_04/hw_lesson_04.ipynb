{
 "cells": [
  {
   "cell_type": "markdown",
   "metadata": {},
   "source": [
    "### Классификация вакансий\n",
    "\n",
    "#### Описание задачи\n",
    "\n",
    "Мы владельцы специфического Job-сайта и нам дали большой датасет вакансий. Одни вакансии нам интересны по своей тематике, другие не интересны (target 1 и 0 соответственно). Часть вакансий была размечена людскими ресурсами.\n",
    "\n",
    "Ваша задача обучить классификатор, который на основе размеченной выборки умеет определять интересные вакансии для нашего сайта.\n",
    "\n",
    "* Метрика качества ROC_AUC.\n",
    "* ИСПОЛЬЗОВАТЬ ВНЕШНИЕ ДАННЫЕ С JOB-сайтов = ЗАПРЕЩЕНО\n",
    "* ИСПОЛЬЗОВАТЬ другие ВНЕШНИЕ ДАННЫЕ = только с разрешения организатора (смотри Discussion)\n",
    "* Результат засчитывается только при наличие кода, который этот результат повторяет\n",
    "* Участие индивидуальное\n",
    "\n",
    "#### Описание данных\n",
    "* train.csv - данные для обучения\n",
    "* test.csv - данные для подготовки самбита и проверки\n",
    "* sampleSubmission.csv - пример корректного но бесполезного сабмита\n",
    "* other.csv - необязательные данные для доп.статистик и прочих извращений (например обучение word2vec-а)\n",
    "\n",
    "#### Описание полей\n",
    "* id - внутренний идетификатор\n",
    "* name - название вакансии\n",
    "* description - текст вакансии\n",
    "* target - класс заинтересованности\n",
    "\n",
    "Kaggle: https://www.kaggle.com/c/text-competition-sf-ml-mlo-06"
   ]
  },
  {
   "cell_type": "markdown",
   "metadata": {},
   "source": [
    "### 1. Обработка данных"
   ]
  },
  {
   "cell_type": "code",
   "execution_count": 1,
   "metadata": {},
   "outputs": [],
   "source": [
    "import pandas as pd\n",
    "from sklearn.model_selection import train_test_split"
   ]
  },
  {
   "cell_type": "code",
   "execution_count": 36,
   "metadata": {},
   "outputs": [
    {
     "name": "stdout",
     "output_type": "stream",
     "text": [
      "<class 'pandas.core.frame.DataFrame'>\n",
      "RangeIndex: 200000 entries, 0 to 199999\n",
      "Data columns (total 4 columns):\n",
      "id             200000 non-null int64\n",
      "name           200000 non-null object\n",
      "description    200000 non-null object\n",
      "target         200000 non-null int64\n",
      "dtypes: int64(2), object(2)\n",
      "memory usage: 6.1+ MB\n",
      "None \n",
      "\n",
      "<class 'pandas.core.frame.DataFrame'>\n",
      "RangeIndex: 170179 entries, 0 to 170178\n",
      "Data columns (total 3 columns):\n",
      "id             170179 non-null int64\n",
      "name           170179 non-null object\n",
      "description    170179 non-null object\n",
      "dtypes: int64(1), object(2)\n",
      "memory usage: 3.9+ MB\n",
      "None \n",
      "\n"
     ]
    }
   ],
   "source": [
    "df_train = pd.read_csv('train.csv', delimiter='\\t')\n",
    "df_test = pd.read_csv('test.csv', delimiter='\\t')\n",
    "\n",
    "print(df_train.info(), '\\n')\n",
    "print(df_test.info(), '\\n')"
   ]
  },
  {
   "cell_type": "code",
   "execution_count": 37,
   "metadata": {},
   "outputs": [
    {
     "name": "stdout",
     "output_type": "stream",
     "text": [
      "ID : 0\n",
      "NAME : Заведующий отделом/секцией в магазин YORK (Уручье)\n",
      "DESCRIPTION : <p><strong>В НОВЫЙ МАГАЗИН YORK (хозтовары) приглашаем на постоянную работу руководителя секции (хозтовары).</strong></p> <p><strong>Обязанности: </strong></p> <p> </p> <ul> <li>организация эффективного и культурного обслуживания покупателей</li> <li>организация приемки-сдачи товаров на склад</li> <li>консультация покупателей по вопросам, касающимся оказываемых услуг</li> <li>контроль своевременной подачи товаров в торговую секцию</li> <li>проверка качества, сроков годности ТМЦ, наличие маркировок, ценников на товарах</li> <li>организация бесперебойной работы товарной секции и участка склада, закрепленного за ней</li> <li>контроль за сохранностью товаров, торгового оборудования и прочих материальных ценностей</li> <li>инвентаризация товаров</li> </ul> <p> </p> <p><strong>Требования:</strong></p> <ul> <li>знание товарной группы</li> <li>знание правил приемки товара</li> <li>опыт работы в розничной торговле в качестве продавца 6 р. / заместителя заведующего секцией/отделом</li> <li>ответственность, лидерские качества, опыт управления коллективом</li> </ul> <ul> </ul> <p> </p> <p><strong>Условия:</strong></p> <ul> <li>НОВЫЙ современный магазин розничной торговли хозтоварами</li> <li>хороший коллектив</li> <li>достойная зарплата, премии, соц.пакет</li> <li>график работы пн-пт с 8.00 до 16.30 (плавающий)</li> </ul> <p> </p> <p><strong>Место работы: ул. Никифорова (УРУЧЬЕ)</strong></p>\n",
      "TARGET : 1\n",
      "\n",
      "\n"
     ]
    }
   ],
   "source": [
    "def printHead(df, count):\n",
    "    for i in range(0, count):\n",
    "        for j in df.columns:\n",
    "            print(j.upper(), ':', df[j][i])\n",
    "        print('\\n')\n",
    "\n",
    "printHead(df_train, 1)"
   ]
  },
  {
   "cell_type": "code",
   "execution_count": 38,
   "metadata": {},
   "outputs": [],
   "source": [
    "from bs4 import BeautifulSoup \n",
    "import pymorphy2, re, os, time\n",
    "import pymystem3\n",
    "from datetime import datetime\n",
    "\n",
    "def cleanText(text):\n",
    "    res = BeautifulSoup(text, \"html5lib\").get_text()\n",
    "    res = re.sub('[^а-яёА-ЯЁa-zA-Z ]', ' ', res)\n",
    "    return res.lower()\n",
    "\n",
    "cachedDict = dict()\n",
    "morph = pymorphy2.MorphAnalyzer()\n",
    "def parseMorph(text, cached=True):\n",
    "    resultList = []\n",
    "    wordList = re.findall('[А-Яа-яЁё]+\\-[А-Яа-яЁё]+|[А-Яа-яЁё]+', text)\n",
    "    for word in wordList:\n",
    "\n",
    "        if cached & (word in cachedDict):\n",
    "            resultList.append(cachedDict[word])\n",
    "        else:\n",
    "            pv = morph.parse(word)\n",
    "            for p in pv:\n",
    "                if p.tag.POS in ['ADJF', 'NOUN', 'VERB']:\n",
    "                    resultList.append(p.normal_form)\n",
    "                    if cached:\n",
    "                        cachedDict[word] = p.normal_form\n",
    "                    break\n",
    "    return resultList\n",
    "\n",
    "mystem=pymystem3.Mystem()\n",
    "def parseMystem(text):\n",
    "    resultList = []\n",
    "    trashList = ['', '\\n', '\\t']\n",
    "    wordsList = mystem.lemmatize(text)\n",
    "    for word in wordsList:\n",
    "        if word.strip() not in trashList:\n",
    "            resultList.append(word)\n",
    "    return resultList\n",
    "\n",
    "def preprocData(df_input, file_suffix='data'):\n",
    "    df_output = df_input.copy()\n",
    "    \n",
    "    print('Объединяю заголовок и объявление...')\n",
    "    start_time = time.time()\n",
    "    df_output['text'] = df_output['name'] + ' ' + df_output['description']\n",
    "    print('Wait time {:.2f} s'.format((time.time()-start_time)))\n",
    "    \n",
    "    print('Чистка текста...')\n",
    "    start_time = time.time()\n",
    "    df_output['text'] = df_output['text'].map(cleanText)\n",
    "    print('Wait time {:.2f} s'.format((time.time()-start_time)))\n",
    "    \n",
    "    print('Морфоанализ pymorphy2...')\n",
    "    start_time = time.time()\n",
    "    df_output['text_morph'] = df_output['text'].map(parseMorph)\n",
    "    df_output['text_morph_str'] = df_output['text_morph'].map(lambda x: ' '.join(x))\n",
    "    print('Wait time {:.2f} s'.format((time.time()-start_time)))\n",
    "    \n",
    "    print('Морфоанализ pymystem3...')\n",
    "    start_time = time.time()\n",
    "    df_output['text_mystem'] = df_output['text'].map(parseMystem)\n",
    "    df_output['text_mystem_str'] = df_output['text_mystem'].map(lambda x: ' '.join(x))\n",
    "    print('Wait time {:.2f} s'.format((time.time()-start_time)))\n",
    "       \n",
    "    print('Сохраняю результат вычислений...')\n",
    "    start_time = time.time()\n",
    "    fileName = file_suffix + '_preproc_' + datetime.now().strftime('%d%m%y_%H%M') + '.csv'\n",
    "    df_output.to_csv(fileName, sep=',', encoding='utf-8', index=False)\n",
    "    print('Wait time {:.2f} s'.format((time.time()-start_time)))\n",
    "    print('Создан файл', fileName)\n",
    "    \n",
    "    print(df_output.shape)\n",
    "    print('Done\\n')\n",
    "\n",
    "    return df_output"
   ]
  },
  {
   "cell_type": "code",
   "execution_count": 39,
   "metadata": {},
   "outputs": [
    {
     "name": "stdout",
     "output_type": "stream",
     "text": [
      "Объединяю заголовок и объявление...\n",
      "Wait time 1.50 s\n",
      "Чистка текста...\n",
      "Wait time 491.61 s\n",
      "Морфоанализ pymorphy2...\n",
      "Wait time 428.17 s\n",
      "Морфоанализ pymystem3...\n",
      "Wait time 3810.88 s\n",
      "Сохраняю результат вычислений...\n",
      "Wait time 61.15 s\n",
      "Создан файл train_preproc_011018_1032.csv\n",
      "(200000, 9)\n",
      "Done\n",
      "\n",
      "Объединяю заголовок и объявление...\n",
      "Wait time 1.65 s\n",
      "Чистка текста...\n",
      "Wait time 499.17 s\n",
      "Морфоанализ pymorphy2...\n",
      "Wait time 745.36 s\n",
      "Морфоанализ pymystem3...\n",
      "Wait time 1221.79 s\n",
      "Сохраняю результат вычислений...\n",
      "Wait time 72.89 s\n",
      "Создан файл test_preproc_011018_1114.csv\n",
      "(170179, 8)\n",
      "Done\n",
      "\n",
      "CPU times: user 34min 24s, sys: 2min 48s, total: 37min 13s\n",
      "Wall time: 2h 2min 41s\n"
     ]
    }
   ],
   "source": [
    "%%time\n",
    "# Обработка данных с сохранением результата в файл\n",
    "df_train_preproc= preprocData(df_train, 'train')\n",
    "df_test_preproc= preprocData(df_test, 'test')\n",
    "\n",
    "os.system('say \"Обработка данных завершена!\"')"
   ]
  },
  {
   "cell_type": "code",
   "execution_count": 6,
   "metadata": {},
   "outputs": [
    {
     "name": "stdout",
     "output_type": "stream",
     "text": [
      "total 19103472\r\n",
      "drwxr-xr-x  21 macbook  staff         672 Sep 30 02:06 \u001b[34m.\u001b[m\u001b[m\r\n",
      "drwxr-xr-x   8 macbook  staff         256 Sep 20 13:42 \u001b[34m..\u001b[m\u001b[m\r\n",
      "-rw-r--r--@  1 macbook  staff        6148 Sep 28 21:36 .DS_Store\r\n",
      "drwxr-xr-x   5 macbook  staff         160 Sep 28 01:07 \u001b[34m.ipynb_checkpoints\u001b[m\u001b[m\r\n",
      "-rw-r--r--   1 macbook  staff          72 Sep 26 10:00 Untitled.ipynb\r\n",
      "-rw-r--r--   1 macbook  staff         953 Sep 28 01:09 Untitled1.ipynb\r\n",
      "-rw-r--r--   1 macbook  staff       52033 Sep 30 02:06 hw_lesson_04.ipynb\r\n",
      "-rw-r--r--@  1 macbook  staff  1218622103 Feb 28  2018 other.csv\r\n",
      "-rw-r--r--@  1 macbook  staff   233868529 Sep 13 00:25 other.csv.zip\r\n",
      "-rw-r--r--   1 macbook  staff     1531621 Sep 29 08:18 result.csv\r\n",
      "-rw-r--r--   1 macbook  staff     1531621 Sep 29 08:30 result_0_992549763714425.csv\r\n",
      "-rw-r--r--@  1 macbook  staff     1531621 Sep 13 00:23 sampleSubmission.csv\r\n",
      "-rw-r--r--   1 macbook  staff        1348 Sep 26 09:08 stop_words.txt\r\n",
      "-rw-r--r--@  1 macbook  staff   405802731 Feb 28  2018 test.csv\r\n",
      "-rw-r--r--@  1 macbook  staff    91258293 Sep 13 00:24 test.csv.zip\r\n",
      "-rw-r--r--   1 macbook  staff  1088249540 Sep 29 22:26 test_preproc_290918_2207.csv\r",
      "\r\n",
      "-rw-r--r--   1 macbook  staff  2224204308 Sep 30 02:06 test_preproc_300918_0204.csv\r\n",
      "-rw-r--r--@  1 macbook  staff   476999625 Feb 28  2018 train.csv\r\n",
      "-rw-r--r--@  1 macbook  staff   107179316 Sep 13 00:24 train.csv.zip\r\n",
      "-rw-r--r--   1 macbook  staff  1278596790 Sep 29 22:26 train_preproc_290918_2153.csv\r\n",
      "-rw-r--r--   1 macbook  staff  2613107417 Sep 30 01:25 train_preproc_300918_0123.csv\r\n"
     ]
    }
   ],
   "source": [
    "!ls -la"
   ]
  },
  {
   "cell_type": "code",
   "execution_count": 33,
   "metadata": {},
   "outputs": [],
   "source": [
    "# Востанавление тренировочных данных из файла\n",
    "#df_train_preproc = pd.read_csv('train_preproc_011018_1032.csv')\n",
    "#print(df_train_preproc.shape)\n",
    "\n",
    "# Востанавление тестовых данных из файла\n",
    "#df_test_preproc = pd.read_csv('test_preproc_011018_1114.csv')\n",
    "#print(df_test_preproc.shape)"
   ]
  },
  {
   "cell_type": "code",
   "execution_count": 40,
   "metadata": {},
   "outputs": [
    {
     "name": "stdout",
     "output_type": "stream",
     "text": [
      "ID : 0\n",
      "NAME : Заведующий отделом/секцией в магазин YORK (Уручье)\n",
      "DESCRIPTION : <p><strong>В НОВЫЙ МАГАЗИН YORK (хозтовары) приглашаем на постоянную работу руководителя секции (хозтовары).</strong></p> <p><strong>Обязанности: </strong></p> <p> </p> <ul> <li>организация эффективного и культурного обслуживания покупателей</li> <li>организация приемки-сдачи товаров на склад</li> <li>консультация покупателей по вопросам, касающимся оказываемых услуг</li> <li>контроль своевременной подачи товаров в торговую секцию</li> <li>проверка качества, сроков годности ТМЦ, наличие маркировок, ценников на товарах</li> <li>организация бесперебойной работы товарной секции и участка склада, закрепленного за ней</li> <li>контроль за сохранностью товаров, торгового оборудования и прочих материальных ценностей</li> <li>инвентаризация товаров</li> </ul> <p> </p> <p><strong>Требования:</strong></p> <ul> <li>знание товарной группы</li> <li>знание правил приемки товара</li> <li>опыт работы в розничной торговле в качестве продавца 6 р. / заместителя заведующего секцией/отделом</li> <li>ответственность, лидерские качества, опыт управления коллективом</li> </ul> <ul> </ul> <p> </p> <p><strong>Условия:</strong></p> <ul> <li>НОВЫЙ современный магазин розничной торговли хозтоварами</li> <li>хороший коллектив</li> <li>достойная зарплата, премии, соц.пакет</li> <li>график работы пн-пт с 8.00 до 16.30 (плавающий)</li> </ul> <p> </p> <p><strong>Место работы: ул. Никифорова (УРУЧЬЕ)</strong></p>\n",
      "TARGET : 1\n",
      "TEXT : заведующий отделом секцией в магазин york  уручье  в новый магазин york  хозтовары  приглашаем на постоянную работу руководителя секции  хозтовары   обязанности      организация эффективного и культурного обслуживания покупателей организация приемки сдачи товаров на склад консультация покупателей по вопросам  касающимся оказываемых услуг контроль своевременной подачи товаров в торговую секцию проверка качества  сроков годности тмц  наличие маркировок  ценников на товарах организация бесперебойной работы товарной секции и участка склада  закрепленного за ней контроль за сохранностью товаров  торгового оборудования и прочих материальных ценностей инвентаризация товаров    требования   знание товарной группы знание правил приемки товара опыт работы в розничной торговле в качестве продавца   р    заместителя заведующего секцией отделом ответственность  лидерские качества  опыт управления коллективом      условия   новый современный магазин розничной торговли хозтоварами хороший коллектив достойная зарплата  премии  соц пакет график работы пн пт с      до        плавающий     место работы  ул  никифорова  уручье \n",
      "TEXT_MORPH : ['отдел', 'секция', 'век', 'магазин', 'уручей', 'век', 'новый', 'магазин', 'хозтовары', 'приглашать', 'постоянный', 'работа', 'руководитель', 'секция', 'хозтовары', 'обязанность', 'организация', 'эффективный', 'исполняющий', 'культурный', 'обслуживание', 'покупатель', 'организация', 'приёмка', 'сдача', 'товар', 'склад', 'консультация', 'покупатель', 'вопрос', 'услуга', 'контроль', 'своевременный', 'подача', 'товар', 'век', 'торговый', 'секция', 'проверка', 'качество', 'срок', 'годность', 'наличие', 'маркировка', 'ценник', 'товар', 'организация', 'бесперебойный', 'работа', 'товарный', 'секция', 'исполняющий', 'участок', 'склад', 'контроль', 'сохранность', 'товар', 'торговый', 'оборудование', 'исполняющий', 'прочий', 'материальный', 'ценность', 'инвентаризация', 'товар', 'требование', 'знание', 'товарный', 'группа', 'знание', 'правило', 'приёмка', 'товар', 'опыт', 'работа', 'век', 'розничный', 'торговля', 'век', 'качество', 'продавец', 'заместитель', 'секция', 'отдел', 'ответственность', 'лидерский', 'качество', 'опыт', 'управление', 'коллектив', 'условие', 'новый', 'современный', 'магазин', 'розничный', 'торговля', 'хозтовары', 'хороший', 'коллектив', 'достойный', 'зарплата', 'премия', 'пакет', 'график', 'работа', 'секунда', 'место', 'работа', 'никифоров', 'уручей']\n",
      "TEXT_MORPH_STR : отдел секция век магазин уручей век новый магазин хозтовары приглашать постоянный работа руководитель секция хозтовары обязанность организация эффективный исполняющий культурный обслуживание покупатель организация приёмка сдача товар склад консультация покупатель вопрос услуга контроль своевременный подача товар век торговый секция проверка качество срок годность наличие маркировка ценник товар организация бесперебойный работа товарный секция исполняющий участок склад контроль сохранность товар торговый оборудование исполняющий прочий материальный ценность инвентаризация товар требование знание товарный группа знание правило приёмка товар опыт работа век розничный торговля век качество продавец заместитель секция отдел ответственность лидерский качество опыт управление коллектив условие новый современный магазин розничный торговля хозтовары хороший коллектив достойный зарплата премия пакет график работа секунда место работа никифоров уручей\n",
      "TEXT_MYSTEM : ['заведующий', 'отдел', 'секция', 'в', 'магазин', 'york', 'уручье', 'в', 'новый', 'магазин', 'york', 'хозтовары', 'приглашать', 'на', 'постоянный', 'работа', 'руководитель', 'секция', 'хозтовары', 'обязанность', 'организация', 'эффективный', 'и', 'культурный', 'обслуживание', 'покупатель', 'организация', 'приемка', 'сдача', 'товар', 'на', 'склад', 'консультация', 'покупатель', 'по', 'вопрос', 'касаться', 'оказывать', 'услуга', 'контроль', 'своевременный', 'подача', 'товар', 'в', 'торговый', 'секция', 'проверка', 'качество', 'срок', 'годность', 'тмц', 'наличие', 'маркировка', 'ценник', 'на', 'товар', 'организация', 'бесперебойный', 'работа', 'товарный', 'секция', 'и', 'участок', 'склад', 'закреплять', 'за', 'она', 'контроль', 'за', 'сохранность', 'товар', 'торговый', 'оборудование', 'и', 'прочий', 'материальный', 'ценность', 'инвентаризация', 'товар', 'требование', 'знание', 'товарный', 'группа', 'знание', 'правило', 'приемка', 'товар', 'опыт', 'работа', 'в', 'розничный', 'торговля', 'в', 'качество', 'продавец', 'р', 'заместитель', 'заведующий', 'секция', 'отдел', 'ответственность', 'лидерский', 'качество', 'опыт', 'управление', 'коллектив', 'условие', 'новый', 'современный', 'магазин', 'розничный', 'торговля', 'хозтовары', 'хороший', 'коллектив', 'достойный', 'зарплата', 'премия', 'соц', 'пакет', 'график', 'работа', 'пн', 'пт', 'с', 'до', 'плавать', 'место', 'работа', 'ул', 'никифоров', 'уручье']\n",
      "TEXT_MYSTEM_STR : заведующий отдел секция в магазин york уручье в новый магазин york хозтовары приглашать на постоянный работа руководитель секция хозтовары обязанность организация эффективный и культурный обслуживание покупатель организация приемка сдача товар на склад консультация покупатель по вопрос касаться оказывать услуга контроль своевременный подача товар в торговый секция проверка качество срок годность тмц наличие маркировка ценник на товар организация бесперебойный работа товарный секция и участок склад закреплять за она контроль за сохранность товар торговый оборудование и прочий материальный ценность инвентаризация товар требование знание товарный группа знание правило приемка товар опыт работа в розничный торговля в качество продавец р заместитель заведующий секция отдел ответственность лидерский качество опыт управление коллектив условие новый современный магазин розничный торговля хозтовары хороший коллектив достойный зарплата премия соц пакет график работа пн пт с до плавать место работа ул никифоров уручье\n",
      "\n",
      "\n"
     ]
    }
   ],
   "source": [
    "printHead(df_train_preproc, 1)"
   ]
  },
  {
   "cell_type": "code",
   "execution_count": 41,
   "metadata": {},
   "outputs": [
    {
     "name": "stdout",
     "output_type": "stream",
     "text": [
      "ID : 200000\n",
      "NAME : Дизайнер-консультант мебели\n",
      "DESCRIPTION : <p><strong>Обязанности:</strong></p> <ul> <li>Работа с клиентом в салоне,выезд на замер ,создание дизайн-проекта,расчеты,ведение документации,заключение договоров</li> </ul> <p> </p> <p><strong>Требования:</strong></p> <ul> <li>Опыт работы желателен,уверенный пользователь ПК,грамотная речь,желание учиться и развиваться</li> </ul> <p> </p> <p><strong>Условия:</strong></p> <ul> <li>Трудоустройство по ТК, обучение+стажировка,оклад+% от личных продаж,удобный график</li> </ul>\n",
      "TEXT : дизайнер консультант мебели обязанности   работа с клиентом в салоне выезд на замер  создание дизайн проекта расчеты ведение документации заключение договоров    требования   опыт работы желателен уверенный пользователь пк грамотная речь желание учиться и развиваться    условия   трудоустройство по тк  обучение стажировка оклад   от личных продаж удобный график \n",
      "TEXT_MORPH : ['дизайнер', 'консультант', 'мебель', 'обязанность', 'работа', 'секунда', 'клиент', 'век', 'салон', 'выезд', 'замереть', 'создание', 'дизайн', 'проект', 'расчёт', 'ведение', 'документация', 'заключение', 'договор', 'требование', 'опыт', 'работа', 'уверенный', 'пользователь', 'пк', 'грамотный', 'речь', 'желание', 'исполняющий', 'условие', 'трудоустройство', 'обучение', 'стажировка', 'оклад', 'личный', 'продажа', 'удобный', 'график']\n",
      "TEXT_MORPH_STR : дизайнер консультант мебель обязанность работа секунда клиент век салон выезд замереть создание дизайн проект расчёт ведение документация заключение договор требование опыт работа уверенный пользователь пк грамотный речь желание исполняющий условие трудоустройство обучение стажировка оклад личный продажа удобный график\n",
      "TEXT_MYSTEM : ['дизайнер', 'консультант', 'мебель', 'обязанность', 'работа', 'с', 'клиент', 'в', 'салон', 'выезд', 'на', 'замирать', 'создание', 'дизайн', 'проект', 'расчет', 'ведение', 'документация', 'заключение', 'договор', 'требование', 'опыт', 'работа', 'желательный', 'уверенный', 'пользователь', 'пк', 'грамотный', 'речь', 'желание', 'учиться', 'и', 'развиваться', 'условие', 'трудоустройство', 'по', 'тк', 'обучение', 'стажировка', 'оклад', 'от', 'личный', 'продажа', 'удобный', 'график']\n",
      "TEXT_MYSTEM_STR : дизайнер консультант мебель обязанность работа с клиент в салон выезд на замирать создание дизайн проект расчет ведение документация заключение договор требование опыт работа желательный уверенный пользователь пк грамотный речь желание учиться и развиваться условие трудоустройство по тк обучение стажировка оклад от личный продажа удобный график\n",
      "\n",
      "\n"
     ]
    }
   ],
   "source": [
    "printHead(df_test_preproc, 1)"
   ]
  },
  {
   "cell_type": "code",
   "execution_count": 44,
   "metadata": {},
   "outputs": [],
   "source": [
    "from collections import Counter\n",
    "\n",
    "def printTop(data, top=100):\n",
    "    i = 0\n",
    "    for e in sorted(data.items(), key=lambda x:x[1], reverse=True):\n",
    "        print(str(i)+':',e[0], e[1], end=' ')\n",
    "        i += 1\n",
    "        if i > top: break \n",
    "\n",
    "def countDict(articleList):\n",
    "    resDict = dict()\n",
    "    for article in articleList:\n",
    "        wordSet = set(article) # Избавляемся от дубликатов, неважно сколько раз слово встречалось в одной статье\n",
    "        for word in wordSet:\n",
    "            resDict[word] = resDict.get(word, 0) + 1\n",
    "    return resDict"
   ]
  },
  {
   "cell_type": "code",
   "execution_count": 45,
   "metadata": {},
   "outputs": [
    {
     "name": "stdout",
     "output_type": "stream",
     "text": [
      "0: работа 186469 1: век 183760 2: исполняющий 182370 3: секунда 172895 4: обязанность 162440 5: требование 144217 6: условие 135702 7: опыт 134044 8: график 112933 9: год 105347 10: компания 100994 11: оформление 99027 12: заработный 97576 13: кандидат 94567 14: рф 90304 15: обучение 87140 16: рост 85382 17: возможность 82691 18: знание 79610 19: профессиональный 79267 20: плат 78053 21: продажа 75679 22: карьерный 75481 23: рабочий 73552 24: официальный 72190 25: высокий 72120 26: корпоративный 69999 27: день 69816 28: образование 67989 29: клиент 66583 30: ответственность 65095 31: товар 63950 32: оплата 57828 33: наличие 57703 34: контроль 57477 35: сеть 53484 36: месяц 53151 37: срок 52871 38: магазин 51899 39: стабильный 51219 40: соответствие 51184 41: умение 50446 42: результат 50432 43: команда 48853 44: продавец 48407 45: менеджер 47525 46: развитие 47026 47: отпуск 46176 48: ведение 45637 49: мероприятие 45229 50: приглашать 45060 51: обслуживание 44256 52: выполнение 43782 53: покупатель 43380 54: офис 42623 55: скидка 42593 56: неделя 42223 57: социальный 41971 58: система 41910 59: навык 41869 60: наш 41573 61: разработка 41406 62: уровень 41275 63: оклад 40719 64: раз 40389 65: больничный 40299 66: выплата 40296 67: быть 40158 68: новый 39982 69: коллектив 39136 70: весь 39031 71: пользователь 38859 72: связь 38539 73: участие 38278 74: сотрудник 38178 75: полный 38165 76: розничный 37810 77: свой 37707 78: выкладка 37391 79: база 37343 80: задача 37280 81: продукция 37203 82: технический 36913 83: проведение 36769 84: трудоустройство 36684 85: дом 36469 86: конкурс 36413 87: активный 36119 88: ведущий 35655 89: организация 35564 90: торговый 35412 91: плата 35022 92: зал 34750 93: каждый 34672 94: пк 34566 95: крупный 34399 96: желание 33460 97: касса 33456 98: консультация 32952 99: хотеть 32923 100: ряд 32905 "
     ]
    }
   ],
   "source": [
    "text_morph_cnt = countDict(df_train_preproc['text_morph'])\n",
    "printTop(text_morph_cnt)"
   ]
  },
  {
   "cell_type": "code",
   "execution_count": 46,
   "metadata": {},
   "outputs": [
    {
     "name": "stdout",
     "output_type": "stream",
     "text": [
      "0: работа 186475 1: в 183754 2: и 182369 3: с 172697 4: обязанность 162431 5: на 161161 6: по 160692 7: требование 144192 8: условие 135687 9: опыт 134043 10: график 114267 11: компания 100997 12: оформление 99035 13: плата 98494 14: заработный 97586 15: для 95216 16: тк 94272 17: от 92191 18: рф 90304 19: обучение 87140 20: рост 85391 21: к 83716 22: возможность 82692 23: работать 79735 24: знание 79595 25: профессиональный 79296 26: продажа 75681 27: карьерный 75538 28: рабочий 73567 29: высокий 72960 30: год 72263 31: официальный 72198 32: корпоративный 70024 33: день 69806 34: образование 67992 35: клиент 66584 36: ответственность 65094 37: товар 63951 38: до 60789 39: оплата 57829 40: наличие 57700 41: контроль 57479 42: мы 57300 43: не 54969 44: сеть 53503 45: месяц 53152 46: срок 52876 47: магазин 51901 48: стабильный 51334 49: соответствие 51186 50: за 50529 51: умение 50436 52: результат 50432 53: команда 48857 54: продавец 48407 55: менеджер 47526 56: развитие 47029 57: новый 46973 58: г 46966 59: отпуск 46159 60: готовый 45895 61: приглашать 45685 62: ведение 45637 63: мероприятие 45229 64: обслуживание 44259 65: выполнение 43785 66: покупатель 43380 67: быть 43264 68: офис 42631 69: скидка 42612 70: неделя 42224 71: социальный 41973 72: система 41936 73: навык 41760 74: разработка 41414 75: уровень 41274 76: оклад 40718 77: или 40667 78: раз 40322 79: больничный 40298 80: выплата 40296 81: наш 39722 82: коллектив 39138 83: пользователь 38859 84: связь 38561 85: полный 38322 86: участие 38281 87: сотрудник 38177 88: розничный 37810 89: зарабатывать 37673 90: свой 37584 91: выкладка 37391 92: задача 37284 93: продукция 37203 94: активный 37079 95: технический 36920 96: проведение 36767 97: трудоустройство 36684 98: база 36665 99: конкурс 36413 100: торговый 36336 "
     ]
    }
   ],
   "source": [
    "text_mystem_cnt = countDict(df_train_preproc['text_mystem'])\n",
    "printTop(text_mystem_cnt)"
   ]
  },
  {
   "cell_type": "code",
   "execution_count": 47,
   "metadata": {},
   "outputs": [
    {
     "name": "stdout",
     "output_type": "stream",
     "text": [
      "['работа', 'век', 'исполняющий', 'секунда', 'обязанность', 'требование', 'условие', 'опыт', 'график', 'год', 'компания', 'оформление', 'заработный', 'кандидат', 'рф', 'обучение', 'рост', 'возможность', 'знание', 'профессиональный', 'плат', 'продажа', 'карьерный', 'рабочий', 'официальный'] \n",
      "\n",
      "['работа', 'в', 'и', 'с', 'обязанность', 'на', 'по', 'требование', 'условие', 'опыт', 'график', 'компания', 'оформление', 'плата', 'заработный', 'для', 'тк', 'от', 'рф', 'обучение', 'рост', 'к', 'возможность', 'работать', 'знание']\n"
     ]
    }
   ],
   "source": [
    "# Формируем словарь стоп слов которые содержатся в большинстве статей\n",
    "def getStopWords(wordsList, limit=0):\n",
    "    result = list()\n",
    "    i = 0\n",
    "    for e in sorted(wordsList.items(), key=lambda x:x[1], reverse=True):\n",
    "        if i >= limit: break\n",
    "        result.append(str(e[0]).lower())\n",
    "        i += 1\n",
    "    return result\n",
    "        \n",
    "text_morph_stop_words = getStopWords(text_morph_cnt, 25)\n",
    "text_mystem_stop_words = getStopWords(text_mystem_cnt, 25)\n",
    "\n",
    "print(text_morph_stop_words, '\\n')\n",
    "print(text_mystem_stop_words)"
   ]
  },
  {
   "cell_type": "markdown",
   "metadata": {},
   "source": [
    "### 2. Обучение"
   ]
  },
  {
   "cell_type": "code",
   "execution_count": 48,
   "metadata": {},
   "outputs": [],
   "source": [
    "from sklearn.pipeline import Pipeline\n",
    "from sklearn.metrics import precision_score, recall_score, accuracy_score, classification_report\n",
    "from sklearn.cross_validation import cross_val_score\n",
    "%matplotlib inline\n",
    "from matplotlib import pyplot as plt\n",
    "from sklearn.metrics import roc_auc_score, roc_curve\n",
    "from sklearn.feature_extraction.text import TfidfVectorizer\n",
    "from sklearn.feature_extraction.text import CountVectorizer\n",
    "#from sklearn.tree import DecisionTreeClassifier\n",
    "from sklearn.linear_model import LogisticRegression\n",
    "from sklearn.ensemble import RandomForestClassifier\n",
    "#from sklearn.neighbors import KNeighborsClassifier"
   ]
  },
  {
   "cell_type": "markdown",
   "metadata": {},
   "source": [
    "### Обучение по чистому тексту"
   ]
  },
  {
   "cell_type": "code",
   "execution_count": 53,
   "metadata": {},
   "outputs": [
    {
     "name": "stdout",
     "output_type": "stream",
     "text": [
      "(140000,)\n",
      "(140000,)\n",
      "(60000,)\n",
      "(60000,)\n"
     ]
    }
   ],
   "source": [
    "file = open('stop_words.txt', mode = 'r', encoding='UTF-8')\n",
    "stopWords = file.read().split('\\n')\n",
    "\n",
    "X = df_train_preproc['text']\n",
    "y = df_train_preproc['target']\n",
    "\n",
    "X_train, X_test, y_train, y_test = train_test_split(X, y, test_size=0.3, random_state=123)\n",
    "\n",
    "print(X_train.shape)\n",
    "print(y_train.shape)\n",
    "print(X_test.shape)\n",
    "print(y_test.shape)"
   ]
  },
  {
   "cell_type": "markdown",
   "metadata": {},
   "source": [
    "LogisticRegression by CountVectorizer"
   ]
  },
  {
   "cell_type": "code",
   "execution_count": 54,
   "metadata": {},
   "outputs": [
    {
     "name": "stdout",
     "output_type": "stream",
     "text": [
      "             precision    recall  f1-score   support\n",
      "\n",
      "          0       0.97      0.97      0.97     32011\n",
      "          1       0.96      0.97      0.97     27989\n",
      "\n",
      "avg / total       0.97      0.97      0.97     60000\n",
      "\n",
      "CPU times: user 3min 28s, sys: 14 s, total: 3min 42s\n",
      "Wall time: 3min 55s\n"
     ]
    }
   ],
   "source": [
    "%%time\n",
    "\n",
    "cv = CountVectorizer(stop_words = stopWords, \n",
    "                     ngram_range = (1,3))\n",
    "\n",
    "model_LR_CV = Pipeline([\n",
    "    ('cv', cv),\n",
    "    ('lr', LogisticRegression(penalty='l2', \n",
    "                              dual=True, \n",
    "                              tol=0.0001, \n",
    "                              C=1, \n",
    "                              fit_intercept=True, \n",
    "                              intercept_scaling=1.0, \n",
    "                              class_weight=None, \n",
    "                              random_state=None\n",
    "                             )),\n",
    "    ])\n",
    "\n",
    "model_LR_CV.fit(X_train, y_train)\n",
    "\n",
    "predict_LR_CV = model_LR_CV.predict(X_test)\n",
    "predict_proba_LR_CV = model_LR_CV.predict_proba(X_test)\n",
    "\n",
    "print(classification_report(y_test, predict_LR_CV))\n",
    "\n",
    "os.system('say \"Обучение завершено\"')"
   ]
  },
  {
   "cell_type": "markdown",
   "metadata": {},
   "source": [
    "### Обучение по словам pymorphy2"
   ]
  },
  {
   "cell_type": "code",
   "execution_count": 49,
   "metadata": {},
   "outputs": [
    {
     "name": "stdout",
     "output_type": "stream",
     "text": [
      "(140000,)\n",
      "(140000,)\n",
      "(60000,)\n",
      "(60000,)\n"
     ]
    }
   ],
   "source": [
    "X = df_train_preproc['text_morph_str']\n",
    "y = df_train_preproc['target']\n",
    "\n",
    "X_train, X_test, y_train, y_test = train_test_split(X, y, test_size=0.3, random_state=123)\n",
    "\n",
    "print(X_train.shape)\n",
    "print(y_train.shape)\n",
    "print(X_test.shape)\n",
    "print(y_test.shape)"
   ]
  },
  {
   "cell_type": "code",
   "execution_count": 50,
   "metadata": {},
   "outputs": [
    {
     "name": "stdout",
     "output_type": "stream",
     "text": [
      "             precision    recall  f1-score   support\n",
      "\n",
      "          0       0.97      0.96      0.97     32011\n",
      "          1       0.96      0.96      0.96     27989\n",
      "\n",
      "avg / total       0.96      0.96      0.96     60000\n",
      "\n",
      "CPU times: user 2min 19s, sys: 9.02 s, total: 2min 28s\n",
      "Wall time: 2min 40s\n"
     ]
    }
   ],
   "source": [
    "%%time\n",
    "\n",
    "cv = CountVectorizer(stop_words = text_morph_stop_words, \n",
    "                     ngram_range = (1,3))\n",
    "\n",
    "model_LR_CV_morph = Pipeline([\n",
    "    ('cv', cv),\n",
    "    ('lr', LogisticRegression(penalty='l2', \n",
    "                              dual=True, \n",
    "                              tol=0.0001, \n",
    "                              C=1, \n",
    "                              fit_intercept=True, \n",
    "                              intercept_scaling=1.0, \n",
    "                              class_weight=None, \n",
    "                              random_state=None\n",
    "                             )),\n",
    "])\n",
    "model_LR_CV_morph.fit(X_train, y_train)\n",
    "\n",
    "predict_LR_CV_morph = model_LR_CV_morph.predict(X_test)\n",
    "predict_proba_LR_CV_morph = model_LR_CV_morph.predict_proba(X_test)\n",
    "\n",
    "print(classification_report(y_test, predict_LR_CV_morph))\n",
    "\n",
    "os.system('say \"Обучение завершено\"')"
   ]
  },
  {
   "cell_type": "markdown",
   "metadata": {},
   "source": [
    "### Обучение по словам pymystem3"
   ]
  },
  {
   "cell_type": "code",
   "execution_count": 51,
   "metadata": {},
   "outputs": [
    {
     "name": "stdout",
     "output_type": "stream",
     "text": [
      "(140000,)\n",
      "(140000,)\n",
      "(60000,)\n",
      "(60000,)\n"
     ]
    }
   ],
   "source": [
    "X = df_train_preproc['text_mystem_str']\n",
    "y = df_train_preproc['target']\n",
    "\n",
    "X_train, X_test, y_train, y_test = train_test_split(X, y, test_size=0.3, random_state=123)\n",
    "\n",
    "print(X_train.shape)\n",
    "print(y_train.shape)\n",
    "print(X_test.shape)\n",
    "print(y_test.shape)"
   ]
  },
  {
   "cell_type": "code",
   "execution_count": 52,
   "metadata": {},
   "outputs": [
    {
     "name": "stdout",
     "output_type": "stream",
     "text": [
      "             precision    recall  f1-score   support\n",
      "\n",
      "          0       0.97      0.97      0.97     32011\n",
      "          1       0.96      0.97      0.97     27989\n",
      "\n",
      "avg / total       0.97      0.97      0.97     60000\n",
      "\n",
      "CPU times: user 3min 12s, sys: 13.5 s, total: 3min 26s\n",
      "Wall time: 3min 44s\n"
     ]
    }
   ],
   "source": [
    "%%time\n",
    "\n",
    "cv = CountVectorizer(stop_words = text_mystem_stop_words, \n",
    "                     ngram_range = (1,3))\n",
    "\n",
    "model_LR_CV_mystem = Pipeline([\n",
    "    ('cv', cv),\n",
    "    ('lr', LogisticRegression(penalty='l2', \n",
    "                              dual=True, \n",
    "                              tol=0.0001, \n",
    "                              C=1, \n",
    "                              fit_intercept=True, \n",
    "                              intercept_scaling=1.0, \n",
    "                              class_weight=None, \n",
    "                              random_state=None\n",
    "                             )),\n",
    "])\n",
    "model_LR_CV_mystem.fit(X_train, y_train)\n",
    "\n",
    "predict_LR_CV_mystem = model_LR_CV_mystem.predict(X_test)\n",
    "predict_proba_LR_CV_mystem = model_LR_CV_mystem.predict_proba(X_test)\n",
    "\n",
    "print(classification_report(y_test, predict_LR_CV_mystem))\n",
    "\n",
    "os.system('say \"Обучение завершено\"')"
   ]
  },
  {
   "cell_type": "code",
   "execution_count": 58,
   "metadata": {},
   "outputs": [
    {
     "name": "stdout",
     "output_type": "stream",
     "text": [
      "             precision    recall  f1-score   support\n",
      "\n",
      "          0       0.97      0.96      0.96     32011\n",
      "          1       0.95      0.96      0.96     27989\n",
      "\n",
      "avg / total       0.96      0.96      0.96     60000\n",
      "\n",
      "CPU times: user 14min 44s, sys: 13.6 s, total: 14min 58s\n",
      "Wall time: 6min 42s\n"
     ]
    }
   ],
   "source": [
    "%%time\n",
    "\n",
    "cv = CountVectorizer(stop_words = text_mystem_stop_words, \n",
    "                     ngram_range = (1,3))\n",
    "\n",
    "model_RFC_CV_mystem = Pipeline([\n",
    "    ('cv', cv),\n",
    "    ('rfc', RandomForestClassifier(n_estimators = 100, random_state = 123, n_jobs = -1)),\n",
    "])\n",
    "model_RFC_CV_mystem.fit(X_train, y_train)\n",
    "\n",
    "predict_RFC_CV_mystem = model_RFC_CV_mystem.predict(X_test)\n",
    "predict_proba_RFC_CV_mystem = model_RFC_CV_mystem.predict_proba(X_test)\n",
    "\n",
    "print(classification_report(y_test, predict_RFC_CV_mystem))\n",
    "\n",
    "os.system('say \"Обучение завершено\"')"
   ]
  },
  {
   "cell_type": "markdown",
   "metadata": {},
   "source": [
    "### 3. Сравнение результатов алгоритмов"
   ]
  },
  {
   "cell_type": "code",
   "execution_count": 20,
   "metadata": {},
   "outputs": [],
   "source": [
    "from sklearn.metrics import roc_auc_score, roc_curve\n",
    "%matplotlib inline\n",
    "from matplotlib import pyplot as plt"
   ]
  },
  {
   "cell_type": "code",
   "execution_count": 62,
   "metadata": {},
   "outputs": [
    {
     "name": "stdout",
     "output_type": "stream",
     "text": [
      "ROC_AUC\n",
      "LogisticRegression clearText\t\t 0.9925268139236129\n",
      "LogisticRegression pymurphy2\t\t 0.9908450709546603\n",
      "LogisticRegression pymystem3\t\t 0.9921018755880054\n",
      "RandomForestClassifier pymystem3\t 0.990507730682573\n"
     ]
    },
    {
     "data": {
      "text/plain": [
       "<matplotlib.legend.Legend at 0x1a969866a0>"
      ]
     },
     "execution_count": 62,
     "metadata": {},
     "output_type": "execute_result"
    },
    {
     "data": {
      "image/png": "[encoded data removed]",
      "text/plain": [
       "<Figure size 576x576 with 1 Axes>"
      ]
     },
     "metadata": {},
     "output_type": "display_data"
    }
   ],
   "source": [
    "# Графики ROC_AUC для вычисления точности классификатора\n",
    "plt.figure(figsize=(8, 8))\n",
    "plt.plot([0, 1], [0, 1], 'grey')\n",
    "plt.ylabel('t|pr')\n",
    "plt.xlabel('fpr')\n",
    "plt.grid(True)\n",
    "plt.title('ROC curve')\n",
    "plt.xlim((-0.01, 1.01))\n",
    "plt.ylim((-0.01, 1.01))\n",
    "\n",
    "print('ROC_AUC')\n",
    "\n",
    "### clean text\n",
    "\n",
    "fpr_LR_CV, tpr_LR_CV, thresholds = roc_curve(y_test, predict_proba_LR_CV[:,1])\n",
    "plt.plot(fpr_LR_CV, tpr_LR_CV, label='Logistic Regression by CountVectorizer and clearText')\n",
    "print('LogisticRegression clearText\\t\\t', roc_auc_score(y_test, predict_proba_LR_CV[:,1]))\n",
    "\n",
    "### pymorphy2\n",
    "\n",
    "fpr_LR_CV_morph, tpr_LR_CV_morph, thresholds = roc_curve(y_test, predict_proba_LR_CV_morph[:,1])\n",
    "plt.plot(fpr_LR_CV_morph, tpr_LR_CV_morph, label='LogisticRegression by CountVectorizer and pymorphy2')\n",
    "print('LogisticRegression pymurphy2\\t\\t', roc_auc_score(y_test, predict_proba_LR_CV_morph[:,1]))\n",
    "\n",
    "### pymystem3\n",
    "\n",
    "fpr_LR_CV_mystem, tpr_LR_CV_mystem, thresholds = roc_curve(y_test, predict_proba_LR_CV_mystem[:,1])\n",
    "plt.plot(fpr_LR_CV_mystem, tpr_LR_CV_mystem, label='LogisticRegression by CountVectorizer and pymystem3')\n",
    "print('LogisticRegression pymystem3\\t\\t', roc_auc_score(y_test, predict_proba_LR_CV_mystem[:,1]))\n",
    "\n",
    "fpr_RFC_CV_mystem, tpr_RFC_CV_mystem, thresholds = roc_curve(y_test, predict_proba_RFC_CV_mystem[:,1])\n",
    "plt.plot(fpr_RFC_CV_mystem, tpr_RFC_CV_mystem, label='LogisticRegression by CountVectorizer and pymystem3')\n",
    "print('RandomForestClassifier pymystem3\\t', roc_auc_score(y_test, predict_proba_RFC_CV_mystem[:,1]))\n",
    "\n",
    "plt.legend()"
   ]
  },
  {
   "cell_type": "markdown",
   "metadata": {},
   "source": [
    "#### Странно но лучший результат предсказания получается при чистом текте без морфоанализа?"
   ]
  },
  {
   "cell_type": "markdown",
   "metadata": {},
   "source": [
    "### 4. Получение результата по лучшему алгоритму"
   ]
  },
  {
   "cell_type": "code",
   "execution_count": 57,
   "metadata": {},
   "outputs": [
    {
     "name": "stdout",
     "output_type": "stream",
     "text": [
      "0    89726\n",
      "1    80453\n",
      "Name: target, dtype: int64 \n",
      "\n",
      "<class 'pandas.core.frame.DataFrame'>\n",
      "RangeIndex: 170179 entries, 0 to 170178\n",
      "Data columns (total 2 columns):\n",
      "id        170179 non-null int64\n",
      "target    170179 non-null int64\n",
      "dtypes: int64(2)\n",
      "memory usage: 2.6 MB\n",
      "None\n",
      "result_0_9925268139236129.csv\n",
      "CPU times: user 1min 10s, sys: 5.93 s, total: 1min 16s\n",
      "Wall time: 1min 25s\n"
     ]
    }
   ],
   "source": [
    "%%time\n",
    "result_predict = model_LR_CV.predict(df_test_preproc['text'])\n",
    "\n",
    "df_result = pd.DataFrame(\n",
    "    data = {\n",
    "        'id':df_test_preproc['id'],\n",
    "        'target':result_predict\n",
    "    } \n",
    ")\n",
    "\n",
    "print(df_result['target'].value_counts(), '\\n')\n",
    "print(df_result.info())\n",
    "\n",
    "resFileName = 'result_'+ str(roc_auc_score_LR_CV).replace('.','_') +'.csv'\n",
    "df_result.to_csv(resFileName, sep=',', encoding='utf-8', index=False)\n",
    "print(resFileName)\n",
    "\n",
    "os.system('say \"Работа завершена!\"')"
   ]
  },
  {
   "cell_type": "code",
   "execution_count": null,
   "metadata": {},
   "outputs": [],
   "source": []
  }
 ],
 "metadata": {
  "kernelspec": {
   "display_name": "Python 3",
   "language": "python",
   "name": "python3"
  },
  "language_info": {
   "codemirror_mode": {
    "name": "ipython",
    "version": 3
   },
   "file_extension": ".py",
   "mimetype": "text/x-python",
   "name": "python",
   "nbconvert_exporter": "python",
   "pygments_lexer": "ipython3",
   "version": "3.6.5"
  }
 },
 "nbformat": 4,
 "nbformat_minor": 2
}
